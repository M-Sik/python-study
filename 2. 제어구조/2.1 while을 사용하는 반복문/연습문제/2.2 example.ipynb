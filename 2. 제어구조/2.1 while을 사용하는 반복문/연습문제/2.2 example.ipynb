{
 "cells": [
  {
   "cell_type": "markdown",
   "metadata": {},
   "source": [
    "# 연습 문제 2.2 : 제곱표(while)"
   ]
  },
  {
   "cell_type": "markdown",
   "metadata": {},
   "source": [
    "# 문제"
   ]
  },
  {
   "cell_type": "markdown",
   "metadata": {},
   "source": [
    "정수를 한 개 입력받아, 1부터 입력받은 수 까지 각각에 대해 제곱을 구해 프린트하는 프로그램을 작성해 보시오. 단, while 문을 사용하시오."
   ]
  },
  {
   "cell_type": "markdown",
   "metadata": {},
   "source": [
    "# 예 1"
   ]
  },
  {
   "cell_type": "raw",
   "metadata": {},
   "source": [
    "입력 :\n",
    "\n",
    "3\n",
    "\n",
    "출력 :\n",
    "    \n",
    "1 1\n",
    "2 4\n",
    "3 9"
   ]
  },
  {
   "cell_type": "markdown",
   "metadata": {},
   "source": [
    "# 예 2"
   ]
  },
  {
   "cell_type": "raw",
   "metadata": {},
   "source": [
    "입력 :\n",
    "\n",
    "5\n",
    "\n",
    "출력 :\n",
    "    \n",
    "1 1\n",
    "2 4\n",
    "3 9\n",
    "4 16\n",
    "5 25"
   ]
  },
  {
   "cell_type": "code",
   "execution_count": null,
   "metadata": {},
   "outputs": [],
   "source": []
  }
 ],
 "metadata": {
  "kernelspec": {
   "display_name": "Python 3",
   "language": "python",
   "name": "python3"
  },
  "language_info": {
   "codemirror_mode": {
    "name": "ipython",
    "version": 3
   },
   "file_extension": ".py",
   "mimetype": "text/x-python",
   "name": "python",
   "nbconvert_exporter": "python",
   "pygments_lexer": "ipython3",
   "version": "3.8.5"
  }
 },
 "nbformat": 4,
 "nbformat_minor": 4
}
