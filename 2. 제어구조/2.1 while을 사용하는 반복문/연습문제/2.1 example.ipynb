{
 "cells": [
  {
   "cell_type": "markdown",
   "metadata": {},
   "source": [
    "# 연습 문제 2.1 : 입력받은 숫자만큼 반복하기(while)"
   ]
  },
  {
   "cell_type": "markdown",
   "metadata": {},
   "source": [
    "# 문제"
   ]
  },
  {
   "cell_type": "markdown",
   "metadata": {},
   "source": [
    "input()으로 사용자로부터 정수를 한 개 입력받아, 그 숫자를 숫자 크기만큼 반복해서 출력하는 파이썬 스크립트를 작성하세요. 단, while문을 사용하세요."
   ]
  },
  {
   "cell_type": "markdown",
   "metadata": {},
   "source": [
    "# 예 1"
   ]
  },
  {
   "cell_type": "raw",
   "metadata": {},
   "source": [
    "입력 :\n",
    "\n",
    "3\n",
    "\n",
    "출력 :\n",
    "\n",
    "3\n",
    "3\n",
    "3"
   ]
  },
  {
   "cell_type": "markdown",
   "metadata": {},
   "source": [
    "# 예 2"
   ]
  },
  {
   "cell_type": "raw",
   "metadata": {},
   "source": [
    "입력 :\n",
    "\n",
    "5\n",
    "\n",
    "출력 :\n",
    "\n",
    "5\n",
    "5\n",
    "5\n",
    "5\n",
    "5"
   ]
  },
  {
   "cell_type": "code",
   "execution_count": 1,
   "metadata": {},
   "outputs": [
    {
     "name": "stdout",
     "output_type": "stream",
     "text": [
      "정수입력2\n",
      "2\n",
      "2\n"
     ]
    }
   ],
   "source": [
    "num = int(input('정수입력'))\n",
    "i=0\n",
    "while i<num:\n",
    "    print(num)\n",
    "    i+=1"
   ]
  },
  {
   "cell_type": "code",
   "execution_count": null,
   "metadata": {},
   "outputs": [],
   "source": []
  }
 ],
 "metadata": {
  "kernelspec": {
   "display_name": "Python 3",
   "language": "python",
   "name": "python3"
  },
  "language_info": {
   "codemirror_mode": {
    "name": "ipython",
    "version": 3
   },
   "file_extension": ".py",
   "mimetype": "text/x-python",
   "name": "python",
   "nbconvert_exporter": "python",
   "pygments_lexer": "ipython3",
   "version": "3.8.5"
  }
 },
 "nbformat": 4,
 "nbformat_minor": 4
}
