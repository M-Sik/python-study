{
 "cells": [
  {
   "cell_type": "markdown",
   "metadata": {},
   "source": [
    "# 연습 문제 4.1 : 각 자리 숫자의 합을 구하는 리스트"
   ]
  },
  {
   "cell_type": "markdown",
   "metadata": {},
   "source": [
    "## 문제"
   ]
  },
  {
   "cell_type": "markdown",
   "metadata": {},
   "source": [
    "어떤 수(number)의 각 자리 숫자(digit)의 합을 계산하는 함수를 만든다. 입력한 수를 읽어 sumOfDigits() 함수를 호출하며, 이 함수는 리스트를 사용해 최종적인 합을 사용자에게 표시한다. 단, 나눗셈을 이용하지 않아야한다."
   ]
  },
  {
   "cell_type": "markdown",
   "metadata": {},
   "source": [
    "### 예 1"
   ]
  },
  {
   "cell_type": "markdown",
   "metadata": {},
   "source": [
    "입력 :"
   ]
  },
  {
   "cell_type": "markdown",
   "metadata": {},
   "source": [
    "47253"
   ]
  },
  {
   "cell_type": "markdown",
   "metadata": {},
   "source": [
    "출력 :"
   ]
  },
  {
   "cell_type": "markdown",
   "metadata": {},
   "source": [
    "21"
   ]
  },
  {
   "cell_type": "markdown",
   "metadata": {},
   "source": [
    "### 예 2"
   ]
  },
  {
   "cell_type": "markdown",
   "metadata": {},
   "source": [
    "입력 :"
   ]
  },
  {
   "cell_type": "markdown",
   "metadata": {},
   "source": [
    "643"
   ]
  },
  {
   "cell_type": "markdown",
   "metadata": {},
   "source": [
    "출력 :"
   ]
  },
  {
   "cell_type": "markdown",
   "metadata": {},
   "source": [
    "13"
   ]
  },
  {
   "cell_type": "code",
   "execution_count": 26,
   "metadata": {},
   "outputs": [
    {
     "name": "stdout",
     "output_type": "stream",
     "text": [
      "입력 :123\n",
      "6\n"
     ]
    }
   ],
   "source": [
    "def sumOfDigits(x):\n",
    "    sum = 0\n",
    "    for i in range(0, len(a)):\n",
    "        sum += int(x[i])\n",
    "        \n",
    "    return sum\n",
    "\n",
    "a = input('입력 :')\n",
    "b = sumOfDigits(a)\n",
    "print(b)\n"
   ]
  }
 ],
 "metadata": {
  "kernelspec": {
   "display_name": "Python 3",
   "language": "python",
   "name": "python3"
  },
  "language_info": {
   "codemirror_mode": {
    "name": "ipython",
    "version": 3
   },
   "file_extension": ".py",
   "mimetype": "text/x-python",
   "name": "python",
   "nbconvert_exporter": "python",
   "pygments_lexer": "ipython3",
   "version": "3.8.5"
  }
 },
 "nbformat": 4,
 "nbformat_minor": 4
}
