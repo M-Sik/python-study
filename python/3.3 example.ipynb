{
 "cells": [
  {
   "cell_type": "markdown",
   "metadata": {},
   "source": [
    "# 연습 문제 3.3 : 복리 이자 계산"
   ]
  },
  {
   "cell_type": "markdown",
   "metadata": {},
   "source": [
    "예를 들어 1,500,000원을 3개월 동안 넣어두면 연 4.3%의 이자를 주는 상품이 있다고 할 때, 만기가 될 때마다 받는 이자와 원금을 합한 금액을 재예치하여 6년간 운용했을 때 받는 총액을 계산해보겠다."
   ]
  },
  {
   "cell_type": "code",
   "execution_count": 1,
   "metadata": {},
   "outputs": [],
   "source": [
    "r = 0.043\n",
    "n = 4"
   ]
  },
  {
   "cell_type": "markdown",
   "metadata": {},
   "source": [
    "위의 r은 연이율을 나타내는 변수고, n은 1년 동안에 복리가 몇 번 적용되는지 나타내는 변수이다. 3개월이 4번 지나야 1년이 되는데, 이때 4가 바로 n 변숫값이 된다. 이렇게 하는 이유는 실제 계산을 해보면 이해할 수 있다."
   ]
  },
  {
   "cell_type": "markdown",
   "metadata": {},
   "source": [
    "첫 해 계산"
   ]
  },
  {
   "cell_type": "code",
   "execution_count": 2,
   "metadata": {},
   "outputs": [
    {
     "data": {
      "text/plain": [
       "1516125.0"
      ]
     },
     "execution_count": 2,
     "metadata": {},
     "output_type": "execute_result"
    }
   ],
   "source": [
    "1500000 * (1 + r / n) # 처음 3개월"
   ]
  },
  {
   "cell_type": "code",
   "execution_count": 3,
   "metadata": {},
   "outputs": [
    {
     "data": {
      "text/plain": [
       "1532423.34375"
      ]
     },
     "execution_count": 3,
     "metadata": {},
     "output_type": "execute_result"
    }
   ],
   "source": [
    "_ * (1 + r / n) # 그 다음 3개월"
   ]
  },
  {
   "cell_type": "code",
   "execution_count": 4,
   "metadata": {},
   "outputs": [
    {
     "data": {
      "text/plain": [
       "1548896.8946953125"
      ]
     },
     "execution_count": 4,
     "metadata": {},
     "output_type": "execute_result"
    }
   ],
   "source": [
    "_ * (1 + r / n) # 그 다음 3개월"
   ]
  },
  {
   "cell_type": "code",
   "execution_count": 5,
   "metadata": {},
   "outputs": [
    {
     "data": {
      "text/plain": [
       "1565547.5363132872"
      ]
     },
     "execution_count": 5,
     "metadata": {},
     "output_type": "execute_result"
    }
   ],
   "source": [
    "_ * (1 + r / n) # 그 다음 3개월"
   ]
  },
  {
   "cell_type": "markdown",
   "metadata": {},
   "source": [
    "이렇게 해서 처음 1년 동안의 원리금을 계산 했다."
   ]
  },
  {
   "cell_type": "markdown",
   "metadata": {},
   "source": [
    "둘째 해 계산"
   ]
  },
  {
   "cell_type": "code",
   "execution_count": 6,
   "metadata": {},
   "outputs": [
    {
     "data": {
      "text/plain": [
       "1582377.1723286551"
      ]
     },
     "execution_count": 6,
     "metadata": {},
     "output_type": "execute_result"
    }
   ],
   "source": [
    "_ * (1 + r / n)"
   ]
  },
  {
   "cell_type": "code",
   "execution_count": 7,
   "metadata": {},
   "outputs": [
    {
     "data": {
      "text/plain": [
       "1599387.7269311883"
      ]
     },
     "execution_count": 7,
     "metadata": {},
     "output_type": "execute_result"
    }
   ],
   "source": [
    "_ * (1 + r / n)"
   ]
  },
  {
   "cell_type": "code",
   "execution_count": 8,
   "metadata": {},
   "outputs": [
    {
     "data": {
      "text/plain": [
       "1616581.1449956987"
      ]
     },
     "execution_count": 8,
     "metadata": {},
     "output_type": "execute_result"
    }
   ],
   "source": [
    "_ * (1 + r / n)"
   ]
  },
  {
   "cell_type": "code",
   "execution_count": 9,
   "metadata": {},
   "outputs": [
    {
     "data": {
      "text/plain": [
       "1633959.3923044025"
      ]
     },
     "execution_count": 9,
     "metadata": {},
     "output_type": "execute_result"
    }
   ],
   "source": [
    "_ * (1 + r / n)"
   ]
  },
  {
   "cell_type": "markdown",
   "metadata": {},
   "source": [
    "같은 방식으로 6년치를 계산하면"
   ]
  },
  {
   "cell_type": "markdown",
   "metadata": {},
   "source": [
    "1938836.8221341053  이 금액이 최종적으로 나온다."
   ]
  },
  {
   "cell_type": "markdown",
   "metadata": {},
   "source": [
    "이 계산을 쉽게 하기위해 다음과 같은 복리 계산 공식을 이용하면 된다."
   ]
  },
  {
   "cell_type": "markdown",
   "metadata": {},
   "source": [
    "## P′=P(1+rn)nt"
   ]
  },
  {
   "cell_type": "markdown",
   "metadata": {},
   "source": [
    "P' : 원리금"
   ]
  },
  {
   "cell_type": "markdown",
   "metadata": {},
   "source": [
    "P : 원금"
   ]
  },
  {
   "cell_type": "markdown",
   "metadata": {},
   "source": [
    "r : 연이율"
   ]
  },
  {
   "cell_type": "markdown",
   "metadata": {},
   "source": [
    "t : 기간"
   ]
  },
  {
   "cell_type": "markdown",
   "metadata": {},
   "source": [
    "n : 복리 횟수"
   ]
  },
  {
   "cell_type": "markdown",
   "metadata": {},
   "source": [
    "앞에서 손수 계산했던 것을 이번에는 공식에 대입해 풀어보겠다."
   ]
  },
  {
   "cell_type": "code",
   "execution_count": 10,
   "metadata": {},
   "outputs": [
    {
     "data": {
      "text/plain": [
       "1938836.8221341055"
      ]
     },
     "execution_count": 10,
     "metadata": {},
     "output_type": "execute_result"
    }
   ],
   "source": [
    "p = 1500000\n",
    "r = 0.043\n",
    "t = 6\n",
    "n = 4\n",
    "p * (1 + r / n) ** (n * t)"
   ]
  },
  {
   "cell_type": "markdown",
   "metadata": {},
   "source": [
    "# 문제"
   ]
  },
  {
   "cell_type": "markdown",
   "metadata": {},
   "source": [
    "복리 예금의 원금(p), 연이율(r), 기간(t), 복리 횟수(n)에 대한 원리금을 계산하는 함수 compound_interest_amount()를 작성하시오."
   ]
  },
  {
   "cell_type": "markdown",
   "metadata": {},
   "source": [
    "\n",
    "## 예 1"
   ]
  },
  {
   "cell_type": "markdown",
   "metadata": {},
   "source": [
    "compound_interest_amount(1500000, 0.043, 6, 4)  함수를 실행하면"
   ]
  },
  {
   "cell_type": "markdown",
   "metadata": {},
   "source": [
    "1938836.8221341055  의 결과가 나와야한다."
   ]
  },
  {
   "cell_type": "markdown",
   "metadata": {},
   "source": [
    "## 예 2"
   ]
  },
  {
   "cell_type": "markdown",
   "metadata": {},
   "source": [
    "compound_interest_amount(1500000, 0.043, 6, 1/2)  함수를 실행하면"
   ]
  },
  {
   "cell_type": "markdown",
   "metadata": {},
   "source": [
    "1921236.0840000005  의 결과가 나와야한다."
   ]
  },
  {
   "cell_type": "code",
   "execution_count": 11,
   "metadata": {},
   "outputs": [],
   "source": [
    "P = 0\n",
    "\n",
    "def compound_interest_amount(p, r, t, n):\n",
    "    P = p * (1 + r / n) ** (n * t)\n",
    "    return P"
   ]
  },
  {
   "cell_type": "code",
   "execution_count": 12,
   "metadata": {},
   "outputs": [
    {
     "name": "stdout",
     "output_type": "stream",
     "text": [
      "1938836.8221341055\n"
     ]
    }
   ],
   "source": [
    "P = compound_interest_amount(1500000, 0.043, 6, 4)\n",
    "print(P)"
   ]
  }
 ],
 "metadata": {
  "kernelspec": {
   "display_name": "Python 3",
   "language": "python",
   "name": "python3"
  },
  "language_info": {
   "codemirror_mode": {
    "name": "ipython",
    "version": 3
   },
   "file_extension": ".py",
   "mimetype": "text/x-python",
   "name": "python",
   "nbconvert_exporter": "python",
   "pygments_lexer": "ipython3",
   "version": "3.8.5"
  }
 },
 "nbformat": 4,
 "nbformat_minor": 4
}
