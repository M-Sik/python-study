{
 "cells": [
  {
   "cell_type": "markdown",
   "metadata": {},
   "source": [
    "# 2.2 조건문(if-elif-else)"
   ]
  },
  {
   "cell_type": "markdown",
   "metadata": {},
   "source": [
    "# 파이썬의 if와 else"
   ]
  },
  {
   "cell_type": "code",
   "execution_count": 6,
   "metadata": {},
   "outputs": [],
   "source": [
    "a = 1234 * 4\n",
    "b = 123456 / 2"
   ]
  },
  {
   "cell_type": "markdown",
   "metadata": {},
   "source": [
    "if 문을 사용해서 a가 크면 'a'를 출력하고 b가 크면 'b'를 출력하도록 프로그램을 작성하시오."
   ]
  },
  {
   "cell_type": "code",
   "execution_count": 7,
   "metadata": {},
   "outputs": [
    {
     "name": "stdout",
     "output_type": "stream",
     "text": [
      "b\n"
     ]
    }
   ],
   "source": [
    "if a > b:                     # 만약 a가 b보다 크면\n",
    "    print('a')                # 'a'를 출력한다.\n",
    "else:                         # 그렇지 않으면\n",
    "    print('b')                # 'b'를 출력한다."
   ]
  },
  {
   "cell_type": "markdown",
   "metadata": {},
   "source": [
    "# elif"
   ]
  },
  {
   "cell_type": "code",
   "execution_count": 9,
   "metadata": {},
   "outputs": [
    {
     "name": "stdout",
     "output_type": "stream",
     "text": [
      "c is equal to d\n"
     ]
    }
   ],
   "source": [
    "c = 15 * 5\n",
    "d = 15 + 15 + 15 + 15 + 15\n",
    "if c > d:\n",
    "    print('c is greater than d')\n",
    "elif c == d:\n",
    "    print('c is equal to d')\n",
    "elif c < d:\n",
    "    print('c is less than d')\n",
    "else:\n",
    "    print('I don\\'t know')\n"
   ]
  },
  {
   "cell_type": "markdown",
   "metadata": {},
   "source": [
    "# 나머지 계산을 이용하는 if 문"
   ]
  },
  {
   "cell_type": "markdown",
   "metadata": {},
   "source": [
    "어떤 수 a가 다른 수 b로 나누어 떨어지는지를 파이썬의 if 문으로 다음과 같이 평가할 수 있다."
   ]
  },
  {
   "cell_type": "code",
   "execution_count": 10,
   "metadata": {},
   "outputs": [
    {
     "name": "stdout",
     "output_type": "stream",
     "text": [
      "48는 4로 나누어 떨어집니다.\n"
     ]
    }
   ],
   "source": [
    "a = 48\n",
    "b = 4\n",
    "if a % b == 0:\n",
    "    print(f'{a}는 {b}로 나누어 떨어집니다.')\n",
    "elif a % b != 0:\n",
    "    print(f'{a}는 {b}로 나누어 떨어지지 않습니다.')"
   ]
  },
  {
   "cell_type": "markdown",
   "metadata": {},
   "source": [
    "# 조건에 따라 분복문 중단하기"
   ]
  },
  {
   "cell_type": "markdown",
   "metadata": {},
   "source": [
    "10보다 큰 숫자가 들어오면 멈추는 반복문 작성"
   ]
  },
  {
   "cell_type": "code",
   "execution_count": 13,
   "metadata": {},
   "outputs": [
    {
     "name": "stdout",
     "output_type": "stream",
     "text": [
      "3\n",
      "6\n",
      "9\n",
      "12\n",
      "12 is too big!\n"
     ]
    }
   ],
   "source": [
    "max = 10\n",
    "\n",
    "while True:\n",
    "    num = int(input())\n",
    "    if num > max:\n",
    "        print(num, 'is too big!')\n",
    "        break"
   ]
  }
 ],
 "metadata": {
  "kernelspec": {
   "display_name": "Python 3",
   "language": "python",
   "name": "python3"
  },
  "language_info": {
   "codemirror_mode": {
    "name": "ipython",
    "version": 3
   },
   "file_extension": ".py",
   "mimetype": "text/x-python",
   "name": "python",
   "nbconvert_exporter": "python",
   "pygments_lexer": "ipython3",
   "version": "3.8.5"
  }
 },
 "nbformat": 4,
 "nbformat_minor": 4
}
