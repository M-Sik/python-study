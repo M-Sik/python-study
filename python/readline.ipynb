{
 "cells": [
  {
   "cell_type": "markdown",
   "metadata": {},
   "source": [
    "# 6.1. 한 줄 씩 다루기"
   ]
  },
  {
   "cell_type": "markdown",
   "metadata": {},
   "source": [
    "파일을 처음부터 끝까지 읽을 땐 read()함수를 쓰며, 한 줄 씩 읽을 때는 readline()함수를 이용하면 된다."
   ]
  },
  {
   "cell_type": "code",
   "execution_count": 2,
   "metadata": {},
   "outputs": [
    {
     "data": {
      "text/plain": [
       "'aaaaaaaaa\\n'"
      ]
     },
     "execution_count": 2,
     "metadata": {},
     "output_type": "execute_result"
    }
   ],
   "source": [
    "f = open('./test.txt')\n",
    "f.readline()"
   ]
  },
  {
   "cell_type": "code",
   "execution_count": 3,
   "metadata": {},
   "outputs": [
    {
     "data": {
      "text/plain": [
       "'bbbbbbbbb\\n'"
      ]
     },
     "execution_count": 3,
     "metadata": {},
     "output_type": "execute_result"
    }
   ],
   "source": [
    "f.readline()"
   ]
  },
  {
   "cell_type": "markdown",
   "metadata": {},
   "source": [
    "파일 내용을 처음부터 읽어나가다가 ''\\n'이 나타나면 멈추게 되는 것이다."
   ]
  },
  {
   "cell_type": "markdown",
   "metadata": {},
   "source": [
    " "
   ]
  },
  {
   "cell_type": "markdown",
   "metadata": {},
   "source": [
    "다음과 같이 반복문과 readline()을 사용하면 텍스트를 원하는 줄 수 만큼만 읽어들일 수 있다."
   ]
  },
  {
   "cell_type": "code",
   "execution_count": 8,
   "metadata": {},
   "outputs": [
    {
     "name": "stdout",
     "output_type": "stream",
     "text": [
      "aaaaaaaaa\n",
      "\n",
      "bbbbbbbbb\n",
      "\n",
      "ccccccccccccc\n",
      "\n",
      "dddddddddd\n",
      "\n",
      "eeeee\n",
      "\n"
     ]
    }
   ],
   "source": [
    "f = open('./test.txt')\n",
    "for x in range(5):\n",
    "    line = f.readline()\n",
    "    print(line)"
   ]
  },
  {
   "cell_type": "markdown",
   "metadata": {},
   "source": [
    "조금 다른 방법으로 줄을 읽어들여 보겠다."
   ]
  },
  {
   "cell_type": "code",
   "execution_count": 9,
   "metadata": {},
   "outputs": [
    {
     "name": "stdout",
     "output_type": "stream",
     "text": [
      "aaaaaaaaa\n",
      "bbbbbbbbb\n",
      "ccccccccccccc\n",
      "dddddddddd\n",
      "eeeee\n"
     ]
    }
   ],
   "source": [
    "f = open('./test.txt')\n",
    "lines = f.readlines()\n",
    "import sys\n",
    "sys.stdout.writelines(lines[:5])"
   ]
  },
  {
   "cell_type": "markdown",
   "metadata": {},
   "source": [
    "여기서는 readline()이 아니라 readlines()를 사용했다. readlines()로 파일을 읽으면 한 줄, 한 줄이 각각 리스트의 원소로 들어간다. 파일 전체가 lines라는 리스트에 담기는 것이다. 그 다음엔 sys모듈을 이용하여 lines에 들어있는 것들을 꺼낼 수 있다."
   ]
  },
  {
   "cell_type": "markdown",
   "metadata": {},
   "source": [
    "이 방법을 사용하면 원하는 줄을 읽어들이는데 편리하다. 1번째 줄부터 3번째 줄까지 읽어보겠다."
   ]
  },
  {
   "cell_type": "code",
   "execution_count": 11,
   "metadata": {},
   "outputs": [
    {
     "name": "stdout",
     "output_type": "stream",
     "text": [
      "aaaaaaaaa\n",
      "bbbbbbbbb\n",
      "ccccccccccccc\n"
     ]
    }
   ],
   "source": [
    "sys.stdout.writelines(lines[0:3])"
   ]
  }
 ],
 "metadata": {
  "kernelspec": {
   "display_name": "Python 3",
   "language": "python",
   "name": "python3"
  },
  "language_info": {
   "codemirror_mode": {
    "name": "ipython",
    "version": 3
   },
   "file_extension": ".py",
   "mimetype": "text/x-python",
   "name": "python",
   "nbconvert_exporter": "python",
   "pygments_lexer": "ipython3",
   "version": "3.8.5"
  }
 },
 "nbformat": 4,
 "nbformat_minor": 4
}
