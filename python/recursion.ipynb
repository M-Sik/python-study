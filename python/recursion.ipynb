{
 "cells": [
  {
   "cell_type": "markdown",
   "metadata": {},
   "source": [
    "# 3.4 함수의 재귀(recursion)"
   ]
  },
  {
   "cell_type": "code",
   "execution_count": 3,
   "metadata": {},
   "outputs": [],
   "source": [
    "def countdown(n):\n",
    "    if n == 0:\n",
    "        print(\"end\")\n",
    "    else:\n",
    "        print(n)\n",
    "        countdown(n-1)"
   ]
  },
  {
   "cell_type": "code",
   "execution_count": 4,
   "metadata": {},
   "outputs": [
    {
     "name": "stdout",
     "output_type": "stream",
     "text": [
      "3\n",
      "2\n",
      "1\n",
      "end\n"
     ]
    }
   ],
   "source": [
    "countdown(3)"
   ]
  },
  {
   "cell_type": "markdown",
   "metadata": {},
   "source": [
    "이 함수는 매개변수로 받은 수부터 카운트다운을 하다가 0까지 오면 종료한다. 그렇다면 for 문이나 while 문과 똑같다고 생각하는 분도 계시겠지만 코드를 가만히 보시면 차이점을 발견할 수 있다."
   ]
  },
  {
   "cell_type": "markdown",
   "metadata": {},
   "source": [
    "이 함수는 if, else 구조로서 n이 0인지 아닌지 따라서 다른 일을 하도록 되어 있습니다. "
   ]
  },
  {
   "cell_type": "markdown",
   "metadata": {},
   "source": [
    "먼저 if n == 0: 에서 n값이 0과 같은지 비교한다. n이 3이므로 n의 값과 0은 같지 않다. 그러기에 else: 이후의 명령을 수행."
   ]
  },
  {
   "cell_type": "markdown",
   "metadata": {},
   "source": [
    "다음 줄에 있는 print(n)은 n 값을 출력하라는 명령이니까 화면에 3을 출력한다."
   ]
  },
  {
   "cell_type": "markdown",
   "metadata": {},
   "source": [
    "그 다음엔 countdown(n-1)이라고 되어있다. countdown이라는 함수를 호출하면서 n-1 값을 매개변수로 넣어주라는 뜻이다. 결국 countdown(2)와 같이 함수를 호출하게 된다."
   ]
  },
  {
   "cell_type": "markdown",
   "metadata": {},
   "source": [
    "countdown 함수와 같이 함수가 자기 자신을 호출하는 것이 재귀 함수 이다."
   ]
  }
 ],
 "metadata": {
  "kernelspec": {
   "display_name": "Python 3",
   "language": "python",
   "name": "python3"
  },
  "language_info": {
   "codemirror_mode": {
    "name": "ipython",
    "version": 3
   },
   "file_extension": ".py",
   "mimetype": "text/x-python",
   "name": "python",
   "nbconvert_exporter": "python",
   "pygments_lexer": "ipython3",
   "version": "3.8.5"
  }
 },
 "nbformat": 4,
 "nbformat_minor": 4
}
