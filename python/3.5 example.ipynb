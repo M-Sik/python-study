{
 "cells": [
  {
   "cell_type": "markdown",
   "metadata": {},
   "source": [
    "# 연습 문제 3.5 : 복리 이자를 재귀적으로 계산하는 함수"
   ]
  },
  {
   "cell_type": "markdown",
   "metadata": {},
   "source": [
    "## 문제"
   ]
  },
  {
   "cell_type": "markdown",
   "metadata": {},
   "source": [
    "### 문제 1"
   ]
  },
  {
   "cell_type": "markdown",
   "metadata": {},
   "source": [
    "문제를 단순화하기 위해 복리 계산 공식을 조금 바꾼다. 원래 공식에는 복리 횟수가 있는데, 복리 횟수가 1이라고 가정하면 공식을 다음과 같이 간단히 나타낼 수 있다."
   ]
  },
  {
   "cell_type": "markdown",
   "metadata": {},
   "source": [
    "P′=P(1+r)t"
   ]
  },
  {
   "cell_type": "markdown",
   "metadata": {},
   "source": [
    "P : 원금"
   ]
  },
  {
   "cell_type": "markdown",
   "metadata": {},
   "source": [
    "P′ : 원리금"
   ]
  },
  {
   "cell_type": "markdown",
   "metadata": {},
   "source": [
    "r : 이율"
   ]
  },
  {
   "cell_type": "markdown",
   "metadata": {},
   "source": [
    "t : 기간"
   ]
  },
  {
   "cell_type": "markdown",
   "metadata": {},
   "source": [
    "이번 문제는 위 공식을 그대로 사용하지 말고 재귀적으로 풀어야 한다. 결괏값의 소수점 이하는 그대로 둔다."
   ]
  },
  {
   "cell_type": "markdown",
   "metadata": {},
   "source": [
    "### 예 1"
   ]
  },
  {
   "cell_type": "markdown",
   "metadata": {},
   "source": [
    "연이율 5.8%인 연복리 상품에 360만원을 2년간 예치했을 때 만기 수령액:"
   ]
  },
  {
   "cell_type": "markdown",
   "metadata": {},
   "source": [
    "compound_interest_amount_withoutN(3600000, 0.058, 2)  함수를 실행하면"
   ]
  },
  {
   "cell_type": "markdown",
   "metadata": {},
   "source": [
    "4029710.4000000004 의 결과값이 나온다."
   ]
  },
  {
   "cell_type": "markdown",
   "metadata": {},
   "source": [
    "### 예 2"
   ]
  },
  {
   "cell_type": "markdown",
   "metadata": {},
   "source": [
    "천만원을 연이율 5% 월복리 예금에 1년 넣었을 때 만기 수령액:"
   ]
  },
  {
   "cell_type": "markdown",
   "metadata": {},
   "source": [
    "compound_interest_amount_withoutN(10000000, 0.05 / 12, 12) 함수를 실행하면"
   ]
  },
  {
   "cell_type": "markdown",
   "metadata": {},
   "source": [
    "10511618.978817329 의 결과값이 나온다."
   ]
  },
  {
   "cell_type": "code",
   "execution_count": 13,
   "metadata": {},
   "outputs": [
    {
     "data": {
      "text/plain": [
       "4029710.4000000004"
      ]
     },
     "execution_count": 13,
     "metadata": {},
     "output_type": "execute_result"
    }
   ],
   "source": [
    "def compound_interest_amount_withoutN(p, r, t):\n",
    "    if(t > 1):\n",
    "        a = 1+r\n",
    "        b = compound_interest_amount_withoutN(p, r, t-1)\n",
    "        return a * b\n",
    "    elif(t == 1):\n",
    "        return p * (1 + r)\n",
    "    \n",
    "compound_interest_amount_withoutN(3600000, 0.058, 2)"
   ]
  }
 ],
 "metadata": {
  "kernelspec": {
   "display_name": "Python 3",
   "language": "python",
   "name": "python3"
  },
  "language_info": {
   "codemirror_mode": {
    "name": "ipython",
    "version": 3
   },
   "file_extension": ".py",
   "mimetype": "text/x-python",
   "name": "python",
   "nbconvert_exporter": "python",
   "pygments_lexer": "ipython3",
   "version": "3.8.5"
  }
 },
 "nbformat": 4,
 "nbformat_minor": 4
}
