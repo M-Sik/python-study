{
 "cells": [
  {
   "cell_type": "markdown",
   "metadata": {},
   "source": [
    "# 6.3. 파이썬으로 PDF 파일 합치기"
   ]
  },
  {
   "cell_type": "markdown",
   "metadata": {},
   "source": [
    "### 첫 번째 버전"
   ]
  },
  {
   "cell_type": "code",
   "execution_count": 1,
   "metadata": {},
   "outputs": [],
   "source": [
    "from PyPDF2 import PdfFileMerger\n",
    "\n",
    "pdfs = ['mybook_01.pdf', 'mybook_02.pdf']\n",
    "\n",
    "merger = PdfFileMerger()\n",
    "\n",
    "for pdf in pdfs:\n",
    "    merger.append(pdf)\n",
    "\n",
    "merger.write(\"mybook.pdf\")\n",
    "merger.close()"
   ]
  },
  {
   "cell_type": "markdown",
   "metadata": {},
   "source": [
    "위 코드를 실행하면 파이썬이 실행되는 디렉터리에 있는 두 개의 PDF 파일 mybook_01.pdf, mybook_02.pdf가 순서대로 합쳐진 mybook.pdf라는 파일이 만들어진다."
   ]
  },
  {
   "cell_type": "markdown",
   "metadata": {},
   "source": [
    "### 두 번째 버전"
   ]
  },
  {
   "cell_type": "markdown",
   "metadata": {},
   "source": [
    "합치고 싶은 파일이 꼭 두 개만 있으라는 법은 없기에 앞에서 배운 glob 모듈을 사용하여 파일명이 mybook으로 시작하는 모든 PDF 파일을 합치도록 하겠다."
   ]
  },
  {
   "cell_type": "code",
   "execution_count": 4,
   "metadata": {},
   "outputs": [],
   "source": [
    "from glob import glob\n",
    "from PyPDF2 import PdfFileMerger\n",
    "\n",
    "BOOK = 'mybook'\n",
    "\n",
    "merger = PdfFileMerger()\n",
    "\n",
    "for f in glob('*' + BOOK + '*.pdf'):\n",
    "    merger.append(f)\n",
    "\n",
    "merger.write('hoin' + \".pdf\")\n",
    "merger.close()"
   ]
  },
  {
   "cell_type": "code",
   "execution_count": null,
   "metadata": {},
   "outputs": [],
   "source": []
  }
 ],
 "metadata": {
  "kernelspec": {
   "display_name": "Python 3",
   "language": "python",
   "name": "python3"
  },
  "language_info": {
   "codemirror_mode": {
    "name": "ipython",
    "version": 3
   },
   "file_extension": ".py",
   "mimetype": "text/x-python",
   "name": "python",
   "nbconvert_exporter": "python",
   "pygments_lexer": "ipython3",
   "version": "3.8.5"
  }
 },
 "nbformat": 4,
 "nbformat_minor": 4
}
