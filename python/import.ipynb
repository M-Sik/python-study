{
 "cells": [
  {
   "cell_type": "markdown",
   "metadata": {},
   "source": [
    "# 5.1. 모듈 가져오기(import)"
   ]
  },
  {
   "cell_type": "markdown",
   "metadata": {},
   "source": [
    "파이썬에서 임포트를 하는 방법 두가지를 알아보겠다."
   ]
  },
  {
   "cell_type": "markdown",
   "metadata": {},
   "source": [
    "### 첫 번째 방법 :"
   ]
  },
  {
   "cell_type": "markdown",
   "metadata": {},
   "source": [
    " import 모듈"
   ]
  },
  {
   "cell_type": "markdown",
   "metadata": {},
   "source": [
    "### 두 번째 방법 :"
   ]
  },
  {
   "cell_type": "markdown",
   "metadata": {},
   "source": [
    "from 모듈 import 이름"
   ]
  },
  {
   "cell_type": "markdown",
   "metadata": {},
   "source": [
    "첫 번째 방법은 모듈 전체를 가져오며, 두 번째 방법은 모듈 내에서 필요한 것만 가져오는 방법이다. 두 방법을 비교하기 위해 tkinter 모듈을 두 가지 방법으로 import 해보겠다."
   ]
  },
  {
   "cell_type": "code",
   "execution_count": 1,
   "metadata": {},
   "outputs": [],
   "source": [
    "import tkinter\n",
    "tkinter.widget = tkinter.Label(None, text='I love Python!')\n",
    "tkinter.widget.pack()"
   ]
  },
  {
   "cell_type": "markdown",
   "metadata": {},
   "source": [
    "첫 번째 방법으로 모듈을 불러오면 모듈 내의 변수를 사용하기 위해서는 모듈.변수 의 형식으로 써주어야 한다."
   ]
  },
  {
   "cell_type": "code",
   "execution_count": 2,
   "metadata": {},
   "outputs": [],
   "source": [
    "from tkinter import *\n",
    "widget = tkinter.Label(None, text='I love Python!')\n",
    "tkinter.widget.pack()"
   ]
  },
  {
   "cell_type": "markdown",
   "metadata": {},
   "source": [
    "두 번째 방법은 모듈내의 사용할 이름을 가져오는 방법이다. 위에서는 tkinter에 있는 것을 전부(*) 가져왔다."
   ]
  },
  {
   "cell_type": "markdown",
   "metadata": {},
   "source": [
    "하지만 이 방법은 항상 좋은 방법은 아니다. 아래의 예에서는 문자열이었던 Label이 임포트 문 실행 후 tkinter의 Label로 바뀐 것을 볼 수 있다."
   ]
  },
  {
   "cell_type": "code",
   "execution_count": 3,
   "metadata": {},
   "outputs": [
    {
     "data": {
      "text/plain": [
       "tkinter.Label"
      ]
     },
     "execution_count": 3,
     "metadata": {},
     "output_type": "execute_result"
    }
   ],
   "source": [
    "Label = 'This is a Label'\n",
    "from tkinter import *\n",
    "Label"
   ]
  },
  {
   "cell_type": "markdown",
   "metadata": {},
   "source": [
    "이런 특성을 이해하고 상황에 맞게 사용하면 효율적으로 사용할 수 있다."
   ]
  }
 ],
 "metadata": {
  "kernelspec": {
   "display_name": "Python 3",
   "language": "python",
   "name": "python3"
  },
  "language_info": {
   "codemirror_mode": {
    "name": "ipython",
    "version": 3
   },
   "file_extension": ".py",
   "mimetype": "text/x-python",
   "name": "python",
   "nbconvert_exporter": "python",
   "pygments_lexer": "ipython3",
   "version": "3.8.5"
  }
 },
 "nbformat": 4,
 "nbformat_minor": 4
}
