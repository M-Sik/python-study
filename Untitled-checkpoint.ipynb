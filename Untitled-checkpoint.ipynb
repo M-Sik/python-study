{
 "cells": [
  {
   "cell_type": "markdown",
   "metadata": {},
   "source": [
    "# git hub test"
   ]
  },
  {
   "cell_type": "code",
   "execution_count": 2,
   "metadata": {},
   "outputs": [],
   "source": [
    "df = pd.read_csv('C:/Users/User/Documents/카카오톡 받은 파일/results.csv')"
   ]
  },
  {
   "cell_type": "code",
   "execution_count": 2,
   "metadata": {
    "scrolled": false
   },
   "outputs": [
    {
     "data": {
      "text/html": [
       "<div>\n",
       "<style scoped>\n",
       "    .dataframe tbody tr th:only-of-type {\n",
       "        vertical-align: middle;\n",
       "    }\n",
       "\n",
       "    .dataframe tbody tr th {\n",
       "        vertical-align: top;\n",
       "    }\n",
       "\n",
       "    .dataframe thead th {\n",
       "        text-align: right;\n",
       "    }\n",
       "</style>\n",
       "<table border=\"1\" class=\"dataframe\">\n",
       "  <thead>\n",
       "    <tr style=\"text-align: right;\">\n",
       "      <th></th>\n",
       "      <th>date</th>\n",
       "      <th>team</th>\n",
       "      <th>opponent</th>\n",
       "      <th>team_score</th>\n",
       "      <th>opponent_score</th>\n",
       "      <th>tournament</th>\n",
       "    </tr>\n",
       "  </thead>\n",
       "  <tbody>\n",
       "    <tr>\n",
       "      <th>0</th>\n",
       "      <td>1872-11-30</td>\n",
       "      <td>Scotland</td>\n",
       "      <td>England</td>\n",
       "      <td>0</td>\n",
       "      <td>0</td>\n",
       "      <td>Friendly</td>\n",
       "    </tr>\n",
       "    <tr>\n",
       "      <th>1</th>\n",
       "      <td>1872-11-30</td>\n",
       "      <td>England</td>\n",
       "      <td>Scotland</td>\n",
       "      <td>0</td>\n",
       "      <td>0</td>\n",
       "      <td>Friendly</td>\n",
       "    </tr>\n",
       "    <tr>\n",
       "      <th>2</th>\n",
       "      <td>1873-03-08</td>\n",
       "      <td>England</td>\n",
       "      <td>Scotland</td>\n",
       "      <td>4</td>\n",
       "      <td>2</td>\n",
       "      <td>Friendly</td>\n",
       "    </tr>\n",
       "    <tr>\n",
       "      <th>3</th>\n",
       "      <td>1873-03-08</td>\n",
       "      <td>Scotland</td>\n",
       "      <td>England</td>\n",
       "      <td>2</td>\n",
       "      <td>4</td>\n",
       "      <td>Friendly</td>\n",
       "    </tr>\n",
       "    <tr>\n",
       "      <th>4</th>\n",
       "      <td>1874-03-07</td>\n",
       "      <td>Scotland</td>\n",
       "      <td>England</td>\n",
       "      <td>2</td>\n",
       "      <td>1</td>\n",
       "      <td>Friendly</td>\n",
       "    </tr>\n",
       "    <tr>\n",
       "      <th>...</th>\n",
       "      <td>...</td>\n",
       "      <td>...</td>\n",
       "      <td>...</td>\n",
       "      <td>...</td>\n",
       "      <td>...</td>\n",
       "      <td>...</td>\n",
       "    </tr>\n",
       "    <tr>\n",
       "      <th>79333</th>\n",
       "      <td>2018-07-07</td>\n",
       "      <td>Russia</td>\n",
       "      <td>Croatia</td>\n",
       "      <td>2</td>\n",
       "      <td>2</td>\n",
       "      <td>FIFA World Cup</td>\n",
       "    </tr>\n",
       "    <tr>\n",
       "      <th>79334</th>\n",
       "      <td>2018-07-07</td>\n",
       "      <td>England</td>\n",
       "      <td>Sweden</td>\n",
       "      <td>2</td>\n",
       "      <td>0</td>\n",
       "      <td>FIFA World Cup</td>\n",
       "    </tr>\n",
       "    <tr>\n",
       "      <th>79335</th>\n",
       "      <td>2018-07-07</td>\n",
       "      <td>Croatia</td>\n",
       "      <td>Russia</td>\n",
       "      <td>2</td>\n",
       "      <td>2</td>\n",
       "      <td>FIFA World Cup</td>\n",
       "    </tr>\n",
       "    <tr>\n",
       "      <th>79336</th>\n",
       "      <td>2018-07-10</td>\n",
       "      <td>France</td>\n",
       "      <td>Belgium</td>\n",
       "      <td>1</td>\n",
       "      <td>0</td>\n",
       "      <td>FIFA World Cup</td>\n",
       "    </tr>\n",
       "    <tr>\n",
       "      <th>79337</th>\n",
       "      <td>2018-07-10</td>\n",
       "      <td>Belgium</td>\n",
       "      <td>France</td>\n",
       "      <td>0</td>\n",
       "      <td>1</td>\n",
       "      <td>FIFA World Cup</td>\n",
       "    </tr>\n",
       "  </tbody>\n",
       "</table>\n",
       "<p>79338 rows × 6 columns</p>\n",
       "</div>"
      ],
      "text/plain": [
       "             date      team  opponent  team_score  opponent_score  \\\n",
       "0      1872-11-30  Scotland   England           0               0   \n",
       "1      1872-11-30   England  Scotland           0               0   \n",
       "2      1873-03-08   England  Scotland           4               2   \n",
       "3      1873-03-08  Scotland   England           2               4   \n",
       "4      1874-03-07  Scotland   England           2               1   \n",
       "...           ...       ...       ...         ...             ...   \n",
       "79333  2018-07-07    Russia   Croatia           2               2   \n",
       "79334  2018-07-07   England    Sweden           2               0   \n",
       "79335  2018-07-07   Croatia    Russia           2               2   \n",
       "79336  2018-07-10    France   Belgium           1               0   \n",
       "79337  2018-07-10   Belgium    France           0               1   \n",
       "\n",
       "           tournament  \n",
       "0            Friendly  \n",
       "1            Friendly  \n",
       "2            Friendly  \n",
       "3            Friendly  \n",
       "4            Friendly  \n",
       "...               ...  \n",
       "79333  FIFA World Cup  \n",
       "79334  FIFA World Cup  \n",
       "79335  FIFA World Cup  \n",
       "79336  FIFA World Cup  \n",
       "79337  FIFA World Cup  \n",
       "\n",
       "[79338 rows x 6 columns]"
      ]
     },
     "execution_count": 2,
     "metadata": {},
     "output_type": "execute_result"
    }
   ],
   "source": [
    "df"
   ]
  },
  {
   "cell_type": "code",
   "execution_count": 3,
   "metadata": {},
   "outputs": [
    {
     "name": "stdout",
     "output_type": "stream",
     "text": [
      "             date            team opponent  team_score  opponent_score  \\\n",
      "36599  1994-06-27  Korea Republic  Germany           2               3   \n",
      "49458  2002-06-25  Korea Republic  Germany           0               1   \n",
      "54184  2004-12-19  Korea Republic  Germany           3               1   \n",
      "79294  2018-06-27  Korea Republic  Germany           2               0   \n",
      "\n",
      "           tournament  \n",
      "36599  FIFA World Cup  \n",
      "49458  FIFA World Cup  \n",
      "54184        Friendly  \n",
      "79294  FIFA World Cup  \n"
     ]
    }
   ],
   "source": [
    "ds1 = (df.team == 'Korea Republic') & (df.opponent == 'Germany')\n",
    "df_ds1 = df.loc[ds1,:]\n",
    "#df_ds1 = df.loc[ds1,team_score:opponent_score]\n",
    "print(df_ds1)\n",
    "#df_ds1"
   ]
  },
  {
   "cell_type": "code",
   "execution_count": 4,
   "metadata": {},
   "outputs": [],
   "source": [
    "ds2 = (df_ds1.team_score > df_ds1.opponent_score)\n",
    "df_ds2 = df_ds1.loc[ds2,:]\n",
    "#print(df_ds2.head())\n",
    "#df_ds2\n",
    "#print('한국의 승 =', victory)\n",
    "#len(df_ds2)"
   ]
  },
  {
   "cell_type": "code",
   "execution_count": 5,
   "metadata": {},
   "outputs": [],
   "source": [
    "ds3 = (df_ds1.team_score == df_ds1.opponent_score)\n",
    "df_ds3 = df_ds1.loc[ds3,:]\n",
    "#print(df_ds3.head())\n",
    "#len(df_ds3)"
   ]
  },
  {
   "cell_type": "code",
   "execution_count": 6,
   "metadata": {},
   "outputs": [
    {
     "data": {
      "text/html": [
       "<div>\n",
       "<style scoped>\n",
       "    .dataframe tbody tr th:only-of-type {\n",
       "        vertical-align: middle;\n",
       "    }\n",
       "\n",
       "    .dataframe tbody tr th {\n",
       "        vertical-align: top;\n",
       "    }\n",
       "\n",
       "    .dataframe thead th {\n",
       "        text-align: right;\n",
       "    }\n",
       "</style>\n",
       "<table border=\"1\" class=\"dataframe\">\n",
       "  <thead>\n",
       "    <tr style=\"text-align: right;\">\n",
       "      <th></th>\n",
       "      <th>index</th>\n",
       "      <th>date</th>\n",
       "      <th>team</th>\n",
       "      <th>opponent</th>\n",
       "      <th>team_score</th>\n",
       "      <th>opponent_score</th>\n",
       "      <th>tournament</th>\n",
       "    </tr>\n",
       "  </thead>\n",
       "  <tbody>\n",
       "    <tr>\n",
       "      <th>0</th>\n",
       "      <td>36599</td>\n",
       "      <td>1994-06-27</td>\n",
       "      <td>Korea Republic</td>\n",
       "      <td>Germany</td>\n",
       "      <td>2</td>\n",
       "      <td>3</td>\n",
       "      <td>FIFA World Cup</td>\n",
       "    </tr>\n",
       "    <tr>\n",
       "      <th>1</th>\n",
       "      <td>49458</td>\n",
       "      <td>2002-06-25</td>\n",
       "      <td>Korea Republic</td>\n",
       "      <td>Germany</td>\n",
       "      <td>0</td>\n",
       "      <td>1</td>\n",
       "      <td>FIFA World Cup</td>\n",
       "    </tr>\n",
       "  </tbody>\n",
       "</table>\n",
       "</div>"
      ],
      "text/plain": [
       "   index        date            team opponent  team_score  opponent_score  \\\n",
       "0  36599  1994-06-27  Korea Republic  Germany           2               3   \n",
       "1  49458  2002-06-25  Korea Republic  Germany           0               1   \n",
       "\n",
       "       tournament  \n",
       "0  FIFA World Cup  \n",
       "1  FIFA World Cup  "
      ]
     },
     "execution_count": 6,
     "metadata": {},
     "output_type": "execute_result"
    }
   ],
   "source": [
    "ds4 = (df_ds1.team_score < df_ds1.opponent_score)\n",
    "df_ds4 = df_ds1.loc[ds4,:]\n",
    "df_ds4.reset_index()\n",
    "#len(df_ds4)"
   ]
  },
  {
   "cell_type": "code",
   "execution_count": 7,
   "metadata": {},
   "outputs": [
    {
     "name": "stdout",
     "output_type": "stream",
     "text": [
      "한국기준 승 = 2 무 = 0 패 = 2\n"
     ]
    }
   ],
   "source": [
    "print('한국기준 승 =', len(df_ds2), '무 =', len(df_ds3), '패 =', len(df_ds4))"
   ]
  },
  {
   "cell_type": "code",
   "execution_count": null,
   "metadata": {},
   "outputs": [],
   "source": []
  }
 ],
 "metadata": {
  "kernelspec": {
   "display_name": "Python 3",
   "language": "python",
   "name": "python3"
  },
  "language_info": {
   "codemirror_mode": {
    "name": "ipython",
    "version": 3
   },
   "file_extension": ".py",
   "mimetype": "text/x-python",
   "name": "python",
   "nbconvert_exporter": "python",
   "pygments_lexer": "ipython3",
   "version": "3.8.5"
  }
 },
 "nbformat": 4,
 "nbformat_minor": 4
}
